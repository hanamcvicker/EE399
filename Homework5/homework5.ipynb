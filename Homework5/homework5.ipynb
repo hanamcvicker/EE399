{
 "cells": [
  {
   "attachments": {},
   "cell_type": "markdown",
   "metadata": {},
   "source": [
    "Homework 5\n",
    "By: Hana McVicker\n",
    "Github Link: https://github.com/hanamcvicker/EE399"
   ]
  },
  {
   "cell_type": "code",
   "execution_count": 25,
   "metadata": {},
   "outputs": [],
   "source": [
    "import numpy as np\n",
    "from scipy import integrate\n",
    "import torch\n",
    "import torch.nn as nn\n",
    "import torch.optim as optim"
   ]
  },
  {
   "attachments": {},
   "cell_type": "markdown",
   "metadata": {},
   "source": [
    "For the Lorenz equations (code given out previously in class emails), consider the following.\n",
    "1. Train a NN (FFNN) to advance the solution from t to t + ∆t for ρ = 10, 28 and 40. Now see how well\n",
    "your NN (FFNN) works for future state prediction for ρ = 17 and ρ = 35."
   ]
  },
  {
   "cell_type": "code",
   "execution_count": 26,
   "metadata": {},
   "outputs": [],
   "source": [
    "def lorenz(rho):\n",
    "        # Initialize parameters\n",
    "    dt = 0.01\n",
    "    T = 8\n",
    "    t = np.arange(0,T+dt,dt)\n",
    "    beta = 8/3\n",
    "    sigma = 10\n",
    "\n",
    "    # Initialize input and output arrays for rho value\n",
    "    nn_input = np.zeros((100 * (len(t) - 1), 3))\n",
    "    nn_output = np.zeros_like(nn_input)\n",
    "\n",
    "    # Define Lorenz system\n",
    "    def lorenz_deriv(x_y_z, t0, sigma=sigma, beta=beta, rho=rho):\n",
    "        x, y, z = x_y_z\n",
    "        return [sigma * (y - x), x * (rho - z) - y, x * y - beta * z]\n",
    "    \n",
    "    # Solve Lorenz system for rho value\n",
    "    np.random.seed(123)\n",
    "    x0 = -15 + 30 * np.random.random((100, 3))\n",
    "\n",
    "    x_t = np.asarray([integrate.odeint(lorenz_deriv, x0_j, t)\n",
    "                    for x0_j in x0])\n",
    "\n",
    "    for j in range(100):\n",
    "        nn_input[j*(len(t)-1):(j+1)*(len(t)-1),:] = x_t[j,:-1,:]\n",
    "        nn_output[j*(len(t)-1):(j+1)*(len(t)-1),:] = x_t[j,1:,:]\n",
    "    \n",
    "    return nn_input, nn_output\n"
   ]
  },
  {
   "cell_type": "code",
   "execution_count": 31,
   "metadata": {},
   "outputs": [
    {
     "name": "stdout",
     "output_type": "stream",
     "text": [
      "Epoch 1, loss=292.5014\n",
      "Epoch 2, loss=270.6131\n",
      "Epoch 3, loss=251.2502\n",
      "Epoch 4, loss=233.5440\n",
      "Epoch 5, loss=217.3198\n",
      "Epoch 6, loss=202.8074\n",
      "Epoch 7, loss=190.1171\n",
      "Epoch 8, loss=179.1136\n",
      "Epoch 9, loss=169.6170\n",
      "Epoch 10, loss=161.4575\n",
      "Epoch 11, loss=154.4547\n",
      "Epoch 12, loss=148.4359\n",
      "Epoch 13, loss=143.2541\n",
      "Epoch 14, loss=138.7868\n",
      "Epoch 15, loss=134.9302\n",
      "Epoch 16, loss=131.5955\n",
      "Epoch 17, loss=128.7056\n",
      "Epoch 18, loss=126.1938\n",
      "Epoch 19, loss=124.0021\n",
      "Epoch 20, loss=122.0801\n",
      "Epoch 21, loss=120.3844\n",
      "Epoch 22, loss=118.8774\n",
      "Epoch 23, loss=117.5259\n",
      "Epoch 24, loss=116.2994\n",
      "Epoch 25, loss=115.1678\n",
      "Epoch 26, loss=114.1008\n",
      "Epoch 27, loss=113.0667\n",
      "Epoch 28, loss=112.0376\n",
      "Epoch 29, loss=110.9986\n",
      "Epoch 30, loss=109.9324\n"
     ]
    }
   ],
   "source": [
    "# Training\n",
    "\n",
    "# Define activation functions\n",
    "def logsig(x):\n",
    "    return 1 / (1 + torch.exp(-x))\n",
    "\n",
    "def radbas(x):\n",
    "    return torch.exp(-torch.pow(x, 2))\n",
    "\n",
    "def purelin(x):\n",
    "    return x\n",
    "\n",
    "# Define the model\n",
    "class MyModel(nn.Module):\n",
    "    def __init__(self):\n",
    "        super(MyModel, self).__init__()\n",
    "        self.fc1 = nn.Linear(in_features=3, out_features=10)\n",
    "        self.fc2 = nn.Linear(in_features=10, out_features=10)\n",
    "        self.fc3 = nn.Linear(in_features=10, out_features=3)\n",
    "\n",
    "    def forward(self, x):\n",
    "        x = logsig(self.fc1(x))\n",
    "        x = radbas(self.fc2(x))\n",
    "        x = purelin(self.fc3(x))\n",
    "        return x\n",
    "\n",
    "# Create model instance\n",
    "model = MyModel()\n",
    "\n",
    "# Define loss function and optimizer\n",
    "criterion = nn.MSELoss()\n",
    "optimizer = optim.SGD(model.parameters(), lr=0.01)\n",
    "\n",
    "# Generate training data\n",
    "rho_train = [10, 28, 40]\n",
    "nn_input = np.zeros((0, 3))\n",
    "nn_output = np.zeros_like(nn_input)\n",
    "\n",
    "for i, rho in enumerate(rho_train):\n",
    "        nn_input_rho, nn_output_rho = lorenz(rho)\n",
    "        nn_input = np.concatenate((nn_input, nn_input_rho))\n",
    "        nn_output = np.concatenate((nn_output, nn_output_rho))  \n",
    "        \n",
    "# Convert numpy arrays to PyTorch tensors\n",
    "nn_input_torch = torch.from_numpy(nn_input).float()\n",
    "nn_output_torch = torch.from_numpy(nn_output).float()\n",
    "\n",
    "# Train the model\n",
    "for epoch in range(30):\n",
    "    optimizer.zero_grad()\n",
    "    outputs = model(nn_input_torch)\n",
    "    loss = criterion(outputs, nn_output_torch)\n",
    "    loss.backward()\n",
    "    optimizer.step()\n",
    "    print(f\"Epoch {epoch+1}, loss={loss.item():.4f}\")"
   ]
  },
  {
   "cell_type": "code",
   "execution_count": 32,
   "metadata": {},
   "outputs": [
    {
     "name": "stdout",
     "output_type": "stream",
     "text": [
      "Loss for rho =  17 :  42.18996810913086\n",
      "Loss for rho =  35 :  135.71096801757812\n"
     ]
    }
   ],
   "source": [
    "# Testing FFNN for future state prediction for ρ = 17 and ρ = 35.\n",
    "test_values = [17, 35]\n",
    "\n",
    "for rho in test_values:\n",
    "    ffnn_test_input, ffnn_test_output = lorenz(rho)\n",
    "    ffnn_test_input = torch.from_numpy(ffnn_test_input).float()\n",
    "    ffnn_test_output = torch.from_numpy(ffnn_test_output).float()\n",
    "    ffnn_output_pred = model(ffnn_test_input)\n",
    "    loss = criterion(ffnn_output_pred, ffnn_test_output)\n",
    "    print('Loss for rho = ', rho, ': ', loss.item())"
   ]
  },
  {
   "attachments": {},
   "cell_type": "markdown",
   "metadata": {},
   "source": [
    "2. Compare LSTM, RNN and Echo State Networks for forecasting the dynamics."
   ]
  },
  {
   "cell_type": "code",
   "execution_count": 34,
   "metadata": {},
   "outputs": [],
   "source": [
    "# Create LSTM model\n",
    "class LSTM(nn.Module):\n",
    "    def __init__(self, input_size=3, hidden_layer_size=10, output_size=3):\n",
    "        super().__init__()\n",
    "        self.hidden_layer_size = hidden_layer_size\n",
    "        self.lstm = nn.LSTM(input_size, hidden_layer_size, batch_first=True)\n",
    "        self.linear = nn.Linear(hidden_layer_size, output_size)\n",
    "\n",
    "    def forward(self, x):\n",
    "        h0 = torch.zeros(1, x.size(0), self.hidden_layer_size)\n",
    "        c0 = torch.zeros(1, x.size(0), self.hidden_layer_size)\n",
    "        out, _ = self.lstm(x, (h0, c0))\n",
    "        out = self.linear(out[:, -1, :])\n",
    "        return out"
   ]
  },
  {
   "cell_type": "code",
   "execution_count": 35,
   "metadata": {},
   "outputs": [
    {
     "name": "stdout",
     "output_type": "stream",
     "text": [
      "Epoch 1, loss=296.1241\n",
      "Epoch 2, loss=287.8757\n",
      "Epoch 3, loss=280.3617\n",
      "Epoch 4, loss=269.8288\n",
      "Epoch 5, loss=253.8643\n",
      "Epoch 6, loss=233.2905\n",
      "Epoch 7, loss=212.0084\n",
      "Epoch 8, loss=190.2160\n",
      "Epoch 9, loss=169.1255\n",
      "Epoch 10, loss=149.5753\n",
      "Epoch 11, loss=132.7411\n",
      "Epoch 12, loss=119.3574\n",
      "Epoch 13, loss=109.1402\n",
      "Epoch 14, loss=102.3229\n",
      "Epoch 15, loss=98.4028\n",
      "Epoch 16, loss=96.2859\n",
      "Epoch 17, loss=94.5471\n",
      "Epoch 18, loss=93.0146\n",
      "Epoch 19, loss=94.9779\n",
      "Epoch 20, loss=93.3743\n",
      "Epoch 21, loss=94.3646\n",
      "Epoch 22, loss=94.0265\n",
      "Epoch 23, loss=92.4241\n",
      "Epoch 24, loss=84.0550\n",
      "Epoch 25, loss=93.3060\n",
      "Epoch 26, loss=95.3480\n",
      "Epoch 27, loss=87.8754\n",
      "Epoch 28, loss=72.5454\n",
      "Epoch 29, loss=95.0573\n",
      "Epoch 30, loss=103.1637\n"
     ]
    }
   ],
   "source": [
    "# Create model instance\n",
    "model3 = LSTM()\n",
    "\n",
    "# Define loss function and optimizer\n",
    "criterion = nn.MSELoss()\n",
    "optimizer = optim.SGD(model3.parameters(), lr=0.01, momentum=0.9)\n",
    "\n",
    "# Reshape the input data for LSTM\n",
    "nn_input_lstm = nn_input.reshape(-1, 1, 3)\n",
    "nn_input_lstm = torch.from_numpy(nn_input_lstm).float()\n",
    "\n",
    "\n",
    "# Train the model\n",
    "for epoch in range(30):\n",
    "    optimizer.zero_grad()\n",
    "    outputs = model3(nn_input_lstm)\n",
    "    loss = criterion(outputs, nn_output_torch)\n",
    "    loss.backward()\n",
    "    optimizer.step()\n",
    "    print(f\"Epoch {epoch+1}, loss={loss.item():.4f}\")"
   ]
  },
  {
   "cell_type": "code",
   "execution_count": 36,
   "metadata": {},
   "outputs": [
    {
     "name": "stdout",
     "output_type": "stream",
     "text": [
      "Loss for rho =  17 :  14.785507202148438\n",
      "Loss for rho =  35 :  102.20310974121094\n"
     ]
    }
   ],
   "source": [
    "# Test the LSTM Model for ρ = 17 and ρ = 35\n",
    "for rho in test_values:\n",
    "    lstm_test_input, lstm_test_output = lorenz(rho)\n",
    "    lstm_test_input = lstm_test_input.reshape(-1, 1, 3)\n",
    "    lstm_test_input = torch.from_numpy(lstm_test_input).float()\n",
    "    lstm_test_output = torch.from_numpy(lstm_test_output).float()\n",
    "    lstm_output_pred = model3(lstm_test_input)\n",
    "    loss = criterion(lstm_output_pred, lstm_test_output)\n",
    "    print('Loss for rho = ', rho, ': ', loss.item())"
   ]
  },
  {
   "attachments": {},
   "cell_type": "markdown",
   "metadata": {},
   "source": [
    "#### RNN"
   ]
  },
  {
   "cell_type": "code",
   "execution_count": 39,
   "metadata": {},
   "outputs": [],
   "source": [
    "# RNN \n",
    "class RNN(nn.Module):\n",
    "    def __init__(self, input_size=3, hidden_layer_size=10, output_size=3):\n",
    "        super().__init__()\n",
    "        self.hidden_layer_size = hidden_layer_size\n",
    "        self.rnn = nn.RNN(input_size, hidden_layer_size, batch_first=True)\n",
    "        self.linear = nn.Linear(hidden_layer_size, output_size)\n",
    "\n",
    "    def forward(self, x):\n",
    "        h0 = torch.zeros(1, x.size(0), self.hidden_layer_size)\n",
    "        out, _ = self.rnn(x, h0)\n",
    "        out = self.linear(out[:, -1, :])\n",
    "        return out"
   ]
  },
  {
   "cell_type": "code",
   "execution_count": 40,
   "metadata": {},
   "outputs": [
    {
     "name": "stdout",
     "output_type": "stream",
     "text": [
      "Epoch 1, loss=304.0966\n",
      "Epoch 2, loss=276.8466\n",
      "Epoch 3, loss=241.2286\n",
      "Epoch 4, loss=199.3394\n",
      "Epoch 5, loss=156.8338\n",
      "Epoch 6, loss=124.2359\n",
      "Epoch 7, loss=104.8441\n",
      "Epoch 8, loss=96.9755\n",
      "Epoch 9, loss=86.7712\n",
      "Epoch 10, loss=115.9577\n",
      "Epoch 11, loss=105.1501\n",
      "Epoch 12, loss=97.6501\n",
      "Epoch 13, loss=85.2472\n",
      "Epoch 14, loss=85.5213\n",
      "Epoch 15, loss=85.6785\n",
      "Epoch 16, loss=84.2939\n",
      "Epoch 17, loss=83.1829\n",
      "Epoch 18, loss=82.0210\n",
      "Epoch 19, loss=80.4448\n",
      "Epoch 20, loss=78.4878\n",
      "Epoch 21, loss=76.4563\n",
      "Epoch 22, loss=74.6939\n",
      "Epoch 23, loss=73.2980\n",
      "Epoch 24, loss=72.0764\n",
      "Epoch 25, loss=70.1151\n",
      "Epoch 26, loss=67.1871\n",
      "Epoch 27, loss=69.0773\n",
      "Epoch 28, loss=67.8966\n",
      "Epoch 29, loss=66.6526\n",
      "Epoch 30, loss=68.6693\n"
     ]
    }
   ],
   "source": [
    "# Create model instance\n",
    "model4 = RNN()\n",
    "\n",
    "# Define loss function and optimizer\n",
    "criterion = nn.MSELoss()\n",
    "optimizer = optim.SGD(model4.parameters(), lr=0.01, momentum=0.9)\n",
    "\n",
    "# Reshape the input data for RNN\n",
    "nn_input_rnn = nn_input.reshape(-1, 1, 3)\n",
    "nn_input_rnn = torch.from_numpy(nn_input_rnn).float()\n",
    "\n",
    "# Train the model\n",
    "for epoch in range(30):\n",
    "    optimizer.zero_grad()\n",
    "    outputs = model4(nn_input_rnn)\n",
    "    loss = criterion(outputs, nn_output_torch)\n",
    "    loss.backward()\n",
    "    optimizer.step()\n",
    "    print(f\"Epoch {epoch+1}, loss={loss.item():.4f}\")"
   ]
  },
  {
   "cell_type": "code",
   "execution_count": 41,
   "metadata": {},
   "outputs": [
    {
     "name": "stdout",
     "output_type": "stream",
     "text": [
      "Loss for rho =  17 :  31.507925033569336\n",
      "Loss for rho =  35 :  67.714599609375\n"
     ]
    }
   ],
   "source": [
    "# Test the RNN Model for ρ = 17 and ρ = 35\n",
    "for rho in test_values:\n",
    "    rnn_test_input, rnn_test_output = lorenz(rho)\n",
    "    rnn_test_input = rnn_test_input.reshape(-1, 1, 3)\n",
    "    rnn_test_input = torch.from_numpy(rnn_test_input).float()\n",
    "    rnn_test_output = torch.from_numpy(rnn_test_output).float()\n",
    "    rnn_output_pred = model4(rnn_test_input)\n",
    "    loss = criterion(rnn_output_pred, rnn_test_output)\n",
    "    print('Loss for rho = ', rho, ': ', loss.item())\n"
   ]
  },
  {
   "attachments": {},
   "cell_type": "markdown",
   "metadata": {},
   "source": [
    "#### Echo State Network (ESN)"
   ]
  },
  {
   "cell_type": "code",
   "execution_count": 42,
   "metadata": {},
   "outputs": [],
   "source": [
    "# Echo State Network for Lorenz System\n",
    "class Reservoir(nn.Module):\n",
    "  def __init__(self, hidden_dim, connectivity):\n",
    "    super().__init__()\n",
    "    \n",
    "    self.Wx = self.sparse_matrix(hidden_dim, connectivity)\n",
    "    self.Wh = self.sparse_matrix(hidden_dim, connectivity)\n",
    "    self.Uh = self.sparse_matrix(hidden_dim, connectivity)\n",
    "    self.act = nn.Tanh()\n",
    "\n",
    "  def sparse_matrix(self, m, p):\n",
    "    mask_distribution = torch.distributions.Bernoulli(p)\n",
    "    S = torch.randn((m, m))\n",
    "    mask = mask_distribution.sample(S.shape)\n",
    "    S = (S*mask).to_sparse()\n",
    "    return S\n",
    "\n",
    "  def forward(self, x, h):\n",
    "    h = self.act(torch.sparse.mm(self.Uh, h.T).T +\n",
    "                 torch.sparse.mm(self.Wh, x.T).T)\n",
    "    y = self.act(torch.sparse.mm(self.Wx, h.T).T)\n",
    "\n",
    "    return y, h\n",
    "     \n",
    "class EchoState(nn.Module):\n",
    "  def __init__(self, in_dim, out_dim, reservoir_dim, connectivity):\n",
    "    super().__init__()\n",
    "\n",
    "    self.reservoir_dim = reservoir_dim\n",
    "    self.input_to_reservoir = nn.Linear(in_dim, reservoir_dim)\n",
    "    self.input_to_reservoir.requires_grad_(False)\n",
    "\n",
    "    self.reservoir = Reservoir(reservoir_dim, connectivity)\n",
    "    self.readout = nn.Linear(reservoir_dim, out_dim)\n",
    "  \n",
    "  def forward(self, x):\n",
    "    reservoir_in = self.input_to_reservoir(x)\n",
    "    h = torch.ones(x.size(0), self.reservoir_dim)\n",
    "    reservoirs = []\n",
    "    for i in range(x.size(1)):\n",
    "      out, h = self.reservoir(reservoir_in[:, i, :], h)\n",
    "      reservoirs.append(out.unsqueeze(1))\n",
    "    reservoirs = torch.cat(reservoirs, dim=1)\n",
    "    outputs = self.readout(reservoirs)\n",
    "    return outputs"
   ]
  },
  {
   "cell_type": "code",
   "execution_count": 43,
   "metadata": {},
   "outputs": [
    {
     "name": "stdout",
     "output_type": "stream",
     "text": [
      "Epoch 1, loss=290.8023\n",
      "Epoch 2, loss=191.0247\n",
      "Epoch 3, loss=93.6039\n",
      "Epoch 4, loss=76.8121\n",
      "Epoch 5, loss=124.5946\n",
      "Epoch 6, loss=162.4149\n",
      "Epoch 7, loss=143.1104\n",
      "Epoch 8, loss=88.1637\n",
      "Epoch 9, loss=52.3589\n",
      "Epoch 10, loss=61.9440\n",
      "Epoch 11, loss=93.0898\n",
      "Epoch 12, loss=104.6197\n",
      "Epoch 13, loss=82.2997\n",
      "Epoch 14, loss=48.4096\n",
      "Epoch 15, loss=33.3772\n",
      "Epoch 16, loss=44.4759\n",
      "Epoch 17, loss=62.9991\n",
      "Epoch 18, loss=67.3426\n",
      "Epoch 19, loss=54.3991\n",
      "Epoch 20, loss=38.6192\n",
      "Epoch 21, loss=34.0801\n",
      "Epoch 22, loss=40.6024\n",
      "Epoch 23, loss=46.8435\n",
      "Epoch 24, loss=43.9613\n",
      "Epoch 25, loss=34.1769\n",
      "Epoch 26, loss=26.6329\n",
      "Epoch 27, loss=27.0264\n",
      "Epoch 28, loss=32.4960\n",
      "Epoch 29, loss=35.8967\n",
      "Epoch 30, loss=33.5237\n"
     ]
    }
   ],
   "source": [
    "# Create model instance\n",
    "model5 = EchoState(3, 3, 100, 0.1)\n",
    "\n",
    "# Define loss function and optimizer\n",
    "criterion = nn.MSELoss()\n",
    "optimizer = optim.SGD(model5.parameters(), lr=0.01, momentum=0.9)\n",
    "\n",
    "# Train the model\n",
    "for epoch in range(30):\n",
    "    optimizer.zero_grad()\n",
    "    outputs = model5(nn_input_torch.view(1, -1, 3))\n",
    "    loss = criterion(outputs.squeeze(), nn_output_torch)\n",
    "    loss.backward()\n",
    "    optimizer.step()\n",
    "    print(f\"Epoch {epoch+1}, loss={loss.item():.4f}\")"
   ]
  },
  {
   "cell_type": "code",
   "execution_count": 44,
   "metadata": {},
   "outputs": [
    {
     "name": "stdout",
     "output_type": "stream",
     "text": [
      "Loss for rho =  17 :  42.07099914550781\n",
      "Loss for rho =  35 :  27.34931755065918\n"
     ]
    }
   ],
   "source": [
    "# # Test the ESN Model for ρ = 17 and ρ = 35\n",
    "for rho in test_values:\n",
    "    esn_test_input, esn_test_output = lorenz(rho)\n",
    "    esn_test_input = torch.from_numpy(esn_test_input).float()\n",
    "    esn_test_output = torch.from_numpy(esn_test_output).float()\n",
    "    esn_output_pred = model5(esn_test_input.view(1, -1, 3))\n",
    "    loss = criterion(esn_output_pred.squeeze(), esn_test_output)\n",
    "    print('Loss for rho = ', rho, ': ', loss.item())\n",
    "\n"
   ]
  },
  {
   "cell_type": "code",
   "execution_count": null,
   "metadata": {},
   "outputs": [],
   "source": []
  }
 ],
 "metadata": {
  "kernelspec": {
   "display_name": "base",
   "language": "python",
   "name": "python3"
  },
  "language_info": {
   "codemirror_mode": {
    "name": "ipython",
    "version": 3
   },
   "file_extension": ".py",
   "mimetype": "text/x-python",
   "name": "python",
   "nbconvert_exporter": "python",
   "pygments_lexer": "ipython3",
   "version": "3.9.13"
  },
  "orig_nbformat": 4
 },
 "nbformat": 4,
 "nbformat_minor": 2
}
